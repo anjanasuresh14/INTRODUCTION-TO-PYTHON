{
  "nbformat": 4,
  "nbformat_minor": 0,
  "metadata": {
    "colab": {
      "provenance": [],
      "authorship_tag": "ABX9TyOhX4oer3snyJ4zDA+9MZgE",
      "include_colab_link": true
    },
    "kernelspec": {
      "name": "python3",
      "display_name": "Python 3"
    },
    "language_info": {
      "name": "python"
    }
  },
  "cells": [
    {
      "cell_type": "markdown",
      "metadata": {
        "id": "view-in-github",
        "colab_type": "text"
      },
      "source": [
        "<a href=\"https://colab.research.google.com/github/anjanasuresh14/INTRODUCTION-TO-PYTHON/blob/main/Python2.ipynb\" target=\"_parent\"><img src=\"https://colab.research.google.com/assets/colab-badge.svg\" alt=\"Open In Colab\"/></a>"
      ]
    },
    {
      "cell_type": "code",
      "execution_count": 8,
      "metadata": {
        "colab": {
          "base_uri": "https://localhost:8080/"
        },
        "id": "RKktDFtPePI0",
        "outputId": "fb16fadc-4df5-4810-cc3f-00c40e0dbe21"
      },
      "outputs": [
        {
          "output_type": "stream",
          "name": "stdout",
          "text": [
            "Enter Marks70\n",
            "YOU ARE PASSED\n"
          ]
        }
      ],
      "source": [
        "mark=int(input('Enter Marks'))\n",
        "if mark>50:\n",
        "  print('YOU ARE PASSED')\n",
        "else:\n",
        "  print('YOU ARE FAILED')"
      ]
    },
    {
      "cell_type": "code",
      "source": [
        "mark=int(input('Enter Marks'))\n",
        "if mark>50:\n",
        "  print('YOU ARE PASSED')\n",
        "elif mark==50:\n",
        "  print('JUST PASS')\n",
        "else:\n",
        "  print('YOU ARE FAILED')"
      ],
      "metadata": {
        "colab": {
          "base_uri": "https://localhost:8080/"
        },
        "id": "LJTZm_hYhNLP",
        "outputId": "6b019812-39e7-425a-ecc0-5a5f64e47988"
      },
      "execution_count": 6,
      "outputs": [
        {
          "output_type": "stream",
          "name": "stdout",
          "text": [
            "Enter Marks50\n",
            "JUST PASS\n"
          ]
        }
      ]
    },
    {
      "cell_type": "code",
      "source": [
        "s=int(input('Enter Salary:'))\n",
        "if s>=250000:\n",
        "  print('YOU ARE TAXABLE')\n",
        "elif s<250000:\n",
        "  print('YOU ARE NOT TAXABLE')"
      ],
      "metadata": {
        "colab": {
          "base_uri": "https://localhost:8080/"
        },
        "id": "gpML2xq4jms8",
        "outputId": "8aa228fc-96c4-45d8-cb58-21b5bb1bb574"
      },
      "execution_count": 12,
      "outputs": [
        {
          "output_type": "stream",
          "name": "stdout",
          "text": [
            "Enter Salary:250000\n",
            "YOU ARE TAXABLE\n"
          ]
        }
      ]
    },
    {
      "cell_type": "code",
      "source": [
        "s=int(input('Enter Salary:'))\n",
        "if s>=250000:\n",
        "  print('YOU ARE TAXABLE')\n",
        "  m=s-250000\n",
        "  t=s*0.10\n",
        "  print('TAX:',t)\n",
        "  print('TAX OF EXTRA AMOUNT:',m*0.10)\n",
        "elif s<250000:\n",
        "  print('YOU ARE NOT TAXABLE')"
      ],
      "metadata": {
        "colab": {
          "base_uri": "https://localhost:8080/"
        },
        "id": "Zihc82f_lc_y",
        "outputId": "ed5794b2-bdc9-41a9-bec3-e26ab6fc5f3b"
      },
      "execution_count": 18,
      "outputs": [
        {
          "output_type": "stream",
          "name": "stdout",
          "text": [
            "Enter Salary:300000\n",
            "YOU ARE TAXABLE\n",
            "TAX: 30000.0\n",
            "TAX OF EXTRA AMOUNT: 5000.0\n"
          ]
        }
      ]
    },
    {
      "cell_type": "code",
      "source": [
        "s=int(input('Enter Salary:'))\n",
        "if s>=250000 and s<500000:\n",
        "  print('YOU ARE TAXABLE')\n",
        "  x=s-250000\n",
        "  t=x*0.10\n",
        "  print('TAX:',t)\n",
        "elif s>=500000:\n",
        "  print('YOU ARE TAXABLE')\n",
        "  x=(s-250000)*0.10\n",
        "  y=(s-500000)*0.20+x\n",
        "  print('TAX:',y)\n",
        "elif s<250000:\n",
        "  print('YOU ARE NOT TAXABLE')"
      ],
      "metadata": {
        "colab": {
          "base_uri": "https://localhost:8080/"
        },
        "id": "AcDaxluwmvV3",
        "outputId": "cdfb3eb6-5f77-42fc-937a-15abfbcd5952"
      },
      "execution_count": 38,
      "outputs": [
        {
          "output_type": "stream",
          "name": "stdout",
          "text": [
            "Enter Salary:800000\n",
            "YOU ARE TAXABLE\n",
            "TAX: 115000.0\n"
          ]
        }
      ]
    },
    {
      "cell_type": "code",
      "source": [],
      "metadata": {
        "id": "QlsLMXemqyxT"
      },
      "execution_count": null,
      "outputs": []
    }
  ]
}