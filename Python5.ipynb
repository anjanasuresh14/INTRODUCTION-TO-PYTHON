{
  "nbformat": 4,
  "nbformat_minor": 0,
  "metadata": {
    "colab": {
      "provenance": [],
      "authorship_tag": "ABX9TyMttV9GjKtDGHHekwZ+tbDl",
      "include_colab_link": true
    },
    "kernelspec": {
      "name": "python3",
      "display_name": "Python 3"
    },
    "language_info": {
      "name": "python"
    }
  },
  "cells": [
    {
      "cell_type": "markdown",
      "metadata": {
        "id": "view-in-github",
        "colab_type": "text"
      },
      "source": [
        "<a href=\"https://colab.research.google.com/github/anjanasuresh14/INTRODUCTION-TO-PYTHON/blob/main/Python5.ipynb\" target=\"_parent\"><img src=\"https://colab.research.google.com/assets/colab-badge.svg\" alt=\"Open In Colab\"/></a>"
      ]
    },
    {
      "cell_type": "code",
      "execution_count": 1,
      "metadata": {
        "id": "9sqzb8D7rTzr"
      },
      "outputs": [],
      "source": [
        "def anjana():\n",
        "  print('hello world')"
      ]
    },
    {
      "cell_type": "code",
      "source": [
        "anjana()"
      ],
      "metadata": {
        "colab": {
          "base_uri": "https://localhost:8080/"
        },
        "id": "tStLr3ZKtBJK",
        "outputId": "c316bee0-c0d1-46cc-b6ba-511844b47e21"
      },
      "execution_count": 2,
      "outputs": [
        {
          "output_type": "stream",
          "name": "stdout",
          "text": [
            "hello world\n"
          ]
        }
      ]
    },
    {
      "cell_type": "code",
      "source": [
        "def anjana(x,y):\n",
        "  z=x+y\n",
        "  print(\"Result = \",z)"
      ],
      "metadata": {
        "id": "ZoKZXJu8tKQc"
      },
      "execution_count": 5,
      "outputs": []
    },
    {
      "cell_type": "code",
      "source": [
        "anjana(5,6)"
      ],
      "metadata": {
        "colab": {
          "base_uri": "https://localhost:8080/"
        },
        "id": "Sa-64IOnueEe",
        "outputId": "a669e351-7984-4139-a166-c2f66c13e3dd"
      },
      "execution_count": 6,
      "outputs": [
        {
          "output_type": "stream",
          "name": "stdout",
          "text": [
            "Result =  11\n"
          ]
        }
      ]
    },
    {
      "cell_type": "code",
      "source": [
        "def anjana(x,y):\n",
        "  z=x*y\n",
        "  print(\"Result = \",z)"
      ],
      "metadata": {
        "id": "NsFIg8eDug94"
      },
      "execution_count": 7,
      "outputs": []
    },
    {
      "cell_type": "code",
      "source": [
        "anjana(5,6)"
      ],
      "metadata": {
        "colab": {
          "base_uri": "https://localhost:8080/"
        },
        "id": "pghm8WgmvCzn",
        "outputId": "fec301be-fa6a-41aa-c182-aa54a8095b55"
      },
      "execution_count": 8,
      "outputs": [
        {
          "output_type": "stream",
          "name": "stdout",
          "text": [
            "Result =  30\n"
          ]
        }
      ]
    },
    {
      "cell_type": "code",
      "source": [
        "def anjana(x,y):\n",
        "  z=x-y\n",
        "  print(\"Result = \",z)"
      ],
      "metadata": {
        "id": "biR6vGjhvEgM"
      },
      "execution_count": 9,
      "outputs": []
    },
    {
      "cell_type": "code",
      "source": [
        "anjana(6,5)"
      ],
      "metadata": {
        "colab": {
          "base_uri": "https://localhost:8080/"
        },
        "id": "b-oYg_g1vLAf",
        "outputId": "22c656fd-59bd-4c25-81aa-d32bb635b09f"
      },
      "execution_count": 10,
      "outputs": [
        {
          "output_type": "stream",
          "name": "stdout",
          "text": [
            "Result =  1\n"
          ]
        }
      ]
    },
    {
      "cell_type": "code",
      "source": [
        "def anjana(x,y):\n",
        "  z=x/y\n",
        "  print(\"Result = \",z)"
      ],
      "metadata": {
        "id": "B-3f8d20vOLU"
      },
      "execution_count": 11,
      "outputs": []
    },
    {
      "cell_type": "code",
      "source": [
        "anjana(10,5)"
      ],
      "metadata": {
        "colab": {
          "base_uri": "https://localhost:8080/"
        },
        "id": "CP-ilma6vTCM",
        "outputId": "2ad28ff5-f5f8-46f6-8093-89abafa6e913"
      },
      "execution_count": 12,
      "outputs": [
        {
          "output_type": "stream",
          "name": "stdout",
          "text": [
            "Result =  2.0\n"
          ]
        }
      ]
    },
    {
      "cell_type": "code",
      "source": [
        "def anjana(x,y):\n",
        "  z=x+y\n",
        "  return z"
      ],
      "metadata": {
        "id": "ErgtMytEvVZl"
      },
      "execution_count": 13,
      "outputs": []
    },
    {
      "cell_type": "code",
      "source": [
        "anjana(5,6)"
      ],
      "metadata": {
        "colab": {
          "base_uri": "https://localhost:8080/"
        },
        "id": "qbQUYtcCvwlw",
        "outputId": "69b8a679-b3f5-44c1-a1cf-deb23f9f4be9"
      },
      "execution_count": 14,
      "outputs": [
        {
          "output_type": "execute_result",
          "data": {
            "text/plain": [
              "11"
            ]
          },
          "metadata": {},
          "execution_count": 14
        }
      ]
    },
    {
      "cell_type": "code",
      "source": [
        "x=int(input('Enter Salary'))\n",
        "#anjana(x)\n",
        "if x>250000:\n",
        "  print('Taxable')\n",
        "else:\n",
        "  print('Not Taxable')"
      ],
      "metadata": {
        "colab": {
          "base_uri": "https://localhost:8080/"
        },
        "id": "7KcObTDzv0ZE",
        "outputId": "eec3d5a8-f539-4a75-8f14-ebe338862bf1"
      },
      "execution_count": 23,
      "outputs": [
        {
          "output_type": "stream",
          "name": "stdout",
          "text": [
            "Enter Salary400000\n",
            "Taxable\n"
          ]
        }
      ]
    },
    {
      "cell_type": "code",
      "source": [
        "def anjana(x):\n",
        "  if x<250000:\n",
        "    print('No Tax')\n",
        "  if x>250000:\n",
        "    print('Tax')"
      ],
      "metadata": {
        "id": "3Or6tfWdwx5W"
      },
      "execution_count": 24,
      "outputs": []
    },
    {
      "cell_type": "code",
      "source": [
        "x=int(input('Enter Salary'))\n",
        "anjana(x)"
      ],
      "metadata": {
        "colab": {
          "base_uri": "https://localhost:8080/"
        },
        "id": "c3nxBH5AzmCf",
        "outputId": "f56b8046-d5d8-4d3e-a094-9039dcb7570e"
      },
      "execution_count": 25,
      "outputs": [
        {
          "output_type": "stream",
          "name": "stdout",
          "text": [
            "Enter Salary500000\n",
            "Tax\n"
          ]
        }
      ]
    },
    {
      "cell_type": "code",
      "source": [
        "def anjana(x):\n",
        "  y=0\n",
        "  for i in range(x):\n",
        "    y=y+i\n",
        "  print(y)"
      ],
      "metadata": {
        "id": "HLUe5-uezsU3"
      },
      "execution_count": 44,
      "outputs": []
    },
    {
      "cell_type": "code",
      "source": [
        "anjana(101)"
      ],
      "metadata": {
        "colab": {
          "base_uri": "https://localhost:8080/"
        },
        "id": "6bi7hDFg2c5h",
        "outputId": "0f7bdc02-c503-4c1d-e81f-d1194232c58e"
      },
      "execution_count": 46,
      "outputs": [
        {
          "output_type": "stream",
          "name": "stdout",
          "text": [
            "5050\n"
          ]
        }
      ]
    },
    {
      "cell_type": "code",
      "source": [
        "def add(x,y):\n",
        "  print(x+y)\n",
        "def sub(x,y):\n",
        "  print(x-y)"
      ],
      "metadata": {
        "id": "20Vvefkx25Oe"
      },
      "execution_count": 49,
      "outputs": []
    },
    {
      "cell_type": "code",
      "source": [
        "x=int(input('Enter a number'))\n",
        "y=int(input('Enter a number'))\n",
        "add(x,y)"
      ],
      "metadata": {
        "colab": {
          "base_uri": "https://localhost:8080/"
        },
        "id": "CmHKeNN59LbC",
        "outputId": "07b589af-6d0d-44ff-d7ea-0a6ebc0ee8d1"
      },
      "execution_count": 51,
      "outputs": [
        {
          "output_type": "stream",
          "name": "stdout",
          "text": [
            "Enter a number10\n",
            "Enter a number20\n",
            "30\n"
          ]
        }
      ]
    },
    {
      "cell_type": "code",
      "source": [
        "sub(x,y)"
      ],
      "metadata": {
        "colab": {
          "base_uri": "https://localhost:8080/"
        },
        "id": "XbqStcp-9p65",
        "outputId": "042f4180-efe4-4745-8186-680f6aabab7f"
      },
      "execution_count": 52,
      "outputs": [
        {
          "output_type": "stream",
          "name": "stdout",
          "text": [
            "-10\n"
          ]
        }
      ]
    },
    {
      "cell_type": "code",
      "source": [],
      "metadata": {
        "id": "aWjQB4mW98Pj"
      },
      "execution_count": null,
      "outputs": []
    }
  ]
}