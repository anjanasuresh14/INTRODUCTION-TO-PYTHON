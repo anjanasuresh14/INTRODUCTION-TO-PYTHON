{
  "nbformat": 4,
  "nbformat_minor": 0,
  "metadata": {
    "colab": {
      "provenance": [],
      "authorship_tag": "ABX9TyMPPnvUrC16HbfLWX+ky6TA",
      "include_colab_link": true
    },
    "kernelspec": {
      "name": "python3",
      "display_name": "Python 3"
    },
    "language_info": {
      "name": "python"
    }
  },
  "cells": [
    {
      "cell_type": "markdown",
      "metadata": {
        "id": "view-in-github",
        "colab_type": "text"
      },
      "source": [
        "<a href=\"https://colab.research.google.com/github/anjanasuresh14/INTRODUCTION-TO-PYTHON/blob/main/Python6.ipynb\" target=\"_parent\"><img src=\"https://colab.research.google.com/assets/colab-badge.svg\" alt=\"Open In Colab\"/></a>"
      ]
    },
    {
      "cell_type": "code",
      "execution_count": 4,
      "metadata": {
        "colab": {
          "base_uri": "https://localhost:8080/"
        },
        "id": "HTQCnp5oeDJp",
        "outputId": "789d6fb7-f283-4d66-bc5c-a0e5428306fa"
      },
      "outputs": [
        {
          "output_type": "stream",
          "name": "stdout",
          "text": [
            "Enter NameAnjana\n",
            "Enter Phone Number1234567890\n",
            "NAME: Anjana\n",
            "PHONE NO.: 1234567890\n"
          ]
        }
      ],
      "source": [
        "a=input('Enter Name')\n",
        "b=int(input('Enter Phone Number'))\n",
        "print('NAME:',a)\n",
        "print('PHONE NO.:',b)"
      ]
    },
    {
      "cell_type": "code",
      "source": [
        "x=int(input('Enter Marks of English'))\n",
        "y=int(input('Enter Marks of Hindi'))\n",
        "z=int(input('Enter Marks of Maths'))\n",
        "t=x+y+z\n",
        "a=(x+y+z)/3\n",
        "print('TOTAL MARKS:',t)\n",
        "print('AVERAGE:',a)"
      ],
      "metadata": {
        "colab": {
          "base_uri": "https://localhost:8080/"
        },
        "id": "RZ_fEgzYhLtK",
        "outputId": "f4723205-45d8-472e-ef8a-cf728fab99ab"
      },
      "execution_count": 17,
      "outputs": [
        {
          "output_type": "stream",
          "name": "stdout",
          "text": [
            "Enter Marks of English20\n",
            "Enter Marks of Hindi30\n",
            "Enter Marks of Maths40\n",
            "TOTAL MARKS: 90\n",
            "AVERAGE: 30.0\n"
          ]
        }
      ]
    },
    {
      "cell_type": "code",
      "source": [
        "x1=int(input('Enter first Number'))\n",
        "y1=int(input('Enter secomd Number'))\n",
        "if x1>y1:\n",
        "  print('Highest Number:',x1)\n",
        "else:\n",
        "  print('Highest Number:',y1)"
      ],
      "metadata": {
        "colab": {
          "base_uri": "https://localhost:8080/"
        },
        "id": "mUrybaI_jKTY",
        "outputId": "4c9d07e1-f795-4b4d-bd5c-8bd2544d403c"
      },
      "execution_count": 20,
      "outputs": [
        {
          "output_type": "stream",
          "name": "stdout",
          "text": [
            "Enter first Number40\n",
            "Enter secomd Number20\n",
            "Highest Number: 40\n"
          ]
        }
      ]
    },
    {
      "cell_type": "code",
      "source": [
        "n1=int(input('Enter first Number'))\n",
        "n2=int(input('Enter second Number'))\n",
        "n3=int(input('Enter third Number'))\n",
        "if n1>n2 and n1>n3:\n",
        "  print('Highest Number:',n1)\n",
        "elif n2>n3 and n2>n1:\n",
        "  print('Highest Number:',n2)\n",
        "elif n3>n1 and n3>n2:\n",
        "  print('Highest Number:',n3)"
      ],
      "metadata": {
        "colab": {
          "base_uri": "https://localhost:8080/"
        },
        "id": "2UoaSVzmmQSM",
        "outputId": "32681ac4-80b1-463c-ccc6-7e1cafddb850"
      },
      "execution_count": 34,
      "outputs": [
        {
          "output_type": "stream",
          "name": "stdout",
          "text": [
            "Enter first Number50\n",
            "Enter second Number10\n",
            "Enter third Number70\n",
            "Highest Number: 70\n"
          ]
        }
      ]
    },
    {
      "cell_type": "code",
      "source": [
        "n1=int(input('Enter a Number'))\n",
        "if n1%2==0:\n",
        "  print(n1,'is EVEN')\n",
        "else:\n",
        "  print(n1,'is ODD')"
      ],
      "metadata": {
        "colab": {
          "base_uri": "https://localhost:8080/"
        },
        "id": "eipa0LXkqDFR",
        "outputId": "703c19f9-d7ac-4871-f71c-4c82a8378742"
      },
      "execution_count": 35,
      "outputs": [
        {
          "output_type": "stream",
          "name": "stdout",
          "text": [
            "Enter a Number444\n",
            "444 is EVEN\n"
          ]
        }
      ]
    },
    {
      "cell_type": "code",
      "source": [
        "for i in range(1,11):\n",
        "  print(i)"
      ],
      "metadata": {
        "colab": {
          "base_uri": "https://localhost:8080/"
        },
        "id": "3_s_OUtDvxVK",
        "outputId": "9cbc5908-6eb5-4f59-ee55-c5683790c71f"
      },
      "execution_count": 38,
      "outputs": [
        {
          "output_type": "stream",
          "name": "stdout",
          "text": [
            "1\n",
            "2\n",
            "3\n",
            "4\n",
            "5\n",
            "6\n",
            "7\n",
            "8\n",
            "9\n",
            "10\n"
          ]
        }
      ]
    },
    {
      "cell_type": "code",
      "source": [
        "for i in range(1,11):\n",
        "  print(i,'*5','=',i*5)"
      ],
      "metadata": {
        "colab": {
          "base_uri": "https://localhost:8080/"
        },
        "id": "M9_WdVsCyfao",
        "outputId": "ee581ca3-1f7b-4fb8-f2e6-ebea643f7940"
      },
      "execution_count": 48,
      "outputs": [
        {
          "output_type": "stream",
          "name": "stdout",
          "text": [
            "1 *5 = 5\n",
            "2 *5 = 10\n",
            "3 *5 = 15\n",
            "4 *5 = 20\n",
            "5 *5 = 25\n",
            "6 *5 = 30\n",
            "7 *5 = 35\n",
            "8 *5 = 40\n",
            "9 *5 = 45\n",
            "10 *5 = 50\n"
          ]
        }
      ]
    },
    {
      "cell_type": "code",
      "source": [],
      "metadata": {
        "id": "K-x-9fpR0A9B"
      },
      "execution_count": null,
      "outputs": []
    }
  ]
}