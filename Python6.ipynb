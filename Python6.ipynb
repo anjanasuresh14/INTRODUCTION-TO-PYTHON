{
  "nbformat": 4,
  "nbformat_minor": 0,
  "metadata": {
    "colab": {
      "provenance": [],
      "authorship_tag": "ABX9TyO1dIaJY55wFjC007dihtbu",
      "include_colab_link": true
    },
    "kernelspec": {
      "name": "python3",
      "display_name": "Python 3"
    },
    "language_info": {
      "name": "python"
    }
  },
  "cells": [
    {
      "cell_type": "markdown",
      "metadata": {
        "id": "view-in-github",
        "colab_type": "text"
      },
      "source": [
        "<a href=\"https://colab.research.google.com/github/anjanasuresh14/INTRODUCTION-TO-PYTHON/blob/main/Python6.ipynb\" target=\"_parent\"><img src=\"https://colab.research.google.com/assets/colab-badge.svg\" alt=\"Open In Colab\"/></a>"
      ]
    },
    {
      "cell_type": "code",
      "execution_count": 3,
      "metadata": {
        "colab": {
          "base_uri": "https://localhost:8080/"
        },
        "id": "BJcOzEz9oTQh",
        "outputId": "971d33c6-d82f-4188-9c43-6375745d461b"
      },
      "outputs": [
        {
          "output_type": "stream",
          "name": "stdout",
          "text": [
            "Enter Travel SourceBus\n",
            "Enter Travel DestinationDelhi\n",
            "Enter the Number of Passengers10\n",
            "Travel Source: Bus\n",
            "Travel Destination: Delhi\n",
            "Number of Passengers: 10\n"
          ]
        }
      ],
      "source": [
        "source=input('Enter Travel Source')\n",
        "dest=input('Enter Travel Destination')\n",
        "no=int(input('Enter the Number of Passengers'))\n",
        "print('Travel Source:',source)\n",
        "print('Travel Destination:',dest)\n",
        "print('Number of Passengers:',no)"
      ]
    },
    {
      "cell_type": "code",
      "source": [
        "fare=int(input('Enter the Total Ticket Fare'))\n",
        "no=int(input('Enter the Number of Passengers'))\n",
        "x=fare/no\n",
        "print('Ticket Fare per Person:',x)"
      ],
      "metadata": {
        "colab": {
          "base_uri": "https://localhost:8080/"
        },
        "id": "fCxitXGxpVSN",
        "outputId": "a006511a-5293-4743-e6b2-0d1288c1e914"
      },
      "execution_count": 4,
      "outputs": [
        {
          "output_type": "stream",
          "name": "stdout",
          "text": [
            "Enter the Total Ticket Fare1000\n",
            "Enter the Number of Passengers10\n",
            "Ticket Fare per Person: 100.0\n"
          ]
        }
      ]
    },
    {
      "cell_type": "code",
      "source": [
        "name=input(\"Enter the Passenger's Name\")\n",
        "fare=int(input('Enter the Total Ticket Fare'))\n",
        "print(name, fare)"
      ],
      "metadata": {
        "colab": {
          "base_uri": "https://localhost:8080/"
        },
        "id": "BtoTvDytqoCw",
        "outputId": "57c2163d-3c99-4d04-9b80-8815e419fa72"
      },
      "execution_count": 5,
      "outputs": [
        {
          "output_type": "stream",
          "name": "stdout",
          "text": [
            "Enter the Passenger's NameAnjana\n",
            "Enter the Total Ticket Fare10000\n",
            "Anjana 10000\n"
          ]
        }
      ]
    },
    {
      "cell_type": "code",
      "source": [
        "fare=int(input('Enter the Total Ticket Fare'))\n",
        "if fare>10000:\n",
        "  print('Eligible for Discount')"
      ],
      "metadata": {
        "colab": {
          "base_uri": "https://localhost:8080/"
        },
        "id": "J7BUvgr3rSEm",
        "outputId": "3f8cd8c1-a69e-400e-dd21-2b5a7482e809"
      },
      "execution_count": 8,
      "outputs": [
        {
          "output_type": "stream",
          "name": "stdout",
          "text": [
            "Enter the Total Ticket Fare20000\n",
            "Eligible for Discount\n"
          ]
        }
      ]
    },
    {
      "cell_type": "code",
      "source": [
        "fare=int(input('Enter the Total Ticket Fare'))\n",
        "if fare>15000:\n",
        "  print('Eligible for 20% Discount')\n",
        "else:\n",
        "  print('Eligible for 10% Discount')"
      ],
      "metadata": {
        "colab": {
          "base_uri": "https://localhost:8080/"
        },
        "id": "qB3eCYsHrufs",
        "outputId": "53b250b7-cecd-43b8-e340-6f3fd1771583"
      },
      "execution_count": 11,
      "outputs": [
        {
          "output_type": "stream",
          "name": "stdout",
          "text": [
            "Enter the Total Ticket Fare200000\n",
            "Eligible for 20% Discount\n"
          ]
        }
      ]
    },
    {
      "cell_type": "code",
      "source": [
        "fare=int(input('Enter the Total Ticket Fare'))\n",
        "if fare>15000:\n",
        "  print('Eligible for 20% Discount')\n",
        "  x=fare*20/100\n",
        "  print('Discount:',x)\n",
        "elif fare>10000:\n",
        "  print('Eligible for 10% Discount')\n",
        "  y=fare*10/100\n",
        "  print('Discount:',y)\n",
        "else:\n",
        "  print('Eligible for 5% Discount')\n",
        "  z=fare*5/100\n",
        "  print('Discount:',z)"
      ],
      "metadata": {
        "colab": {
          "base_uri": "https://localhost:8080/"
        },
        "id": "6jRB3p2rsZja",
        "outputId": "95dd5f5f-7df8-4575-aea6-2684a7dca25b"
      },
      "execution_count": 49,
      "outputs": [
        {
          "output_type": "stream",
          "name": "stdout",
          "text": [
            "Enter the Total Ticket Fare20000\n",
            "Eligible for 20% Discount\n",
            "Discount: 4000.0\n"
          ]
        }
      ]
    },
    {
      "cell_type": "code",
      "source": [
        "n=int(input('Enter a Number'))\n",
        "if n>0:\n",
        "  print('Positive')\n",
        "elif n<0:\n",
        "  print('Negative')\n",
        "else:\n",
        "  print('Zero')"
      ],
      "metadata": {
        "colab": {
          "base_uri": "https://localhost:8080/"
        },
        "id": "cvxuBAJit1pB",
        "outputId": "a638071a-900f-4534-8e98-60e1d58c65a6"
      },
      "execution_count": 19,
      "outputs": [
        {
          "output_type": "stream",
          "name": "stdout",
          "text": [
            "Enter a Number0\n",
            "Zero\n"
          ]
        }
      ]
    },
    {
      "cell_type": "code",
      "source": [
        "age=float(input('Enter Age '))\n",
        "if age>=18:\n",
        "  print('Adult')\n",
        "elif age>=13 and age<18:\n",
        "  print('Teenager')\n",
        "elif age>=6 and age<=12:\n",
        "  print('Kid')\n",
        "elif age>2 and age<=5:\n",
        "  print('Toddler')\n",
        "elif age<=2:\n",
        "  print('Infant')"
      ],
      "metadata": {
        "colab": {
          "base_uri": "https://localhost:8080/"
        },
        "id": "t6FBWBfEu7jQ",
        "outputId": "ee7f7411-586c-4aba-c383-5d8521d8df23"
      },
      "execution_count": 44,
      "outputs": [
        {
          "output_type": "stream",
          "name": "stdout",
          "text": [
            "Enter Age 18\n",
            "Adult\n"
          ]
        }
      ]
    },
    {
      "cell_type": "code",
      "source": [
        "initial=input(\"Enter the Initials of the Passenger's Name \")\n",
        "if initial in('a','e','i','o','u','A','E','I','O','U'):\n",
        "  print('VOWEL')\n",
        "else:\n",
        "  print('NOT A VOWEL')"
      ],
      "metadata": {
        "colab": {
          "base_uri": "https://localhost:8080/"
        },
        "id": "_eD6-vu2w9-v",
        "outputId": "54154059-1ab5-444c-dc79-5d0d59872040"
      },
      "execution_count": 47,
      "outputs": [
        {
          "output_type": "stream",
          "name": "stdout",
          "text": [
            "Enter the Initials of the Passenger's Name a\n",
            "VOWEL\n"
          ]
        }
      ]
    },
    {
      "cell_type": "code",
      "source": [
        "name=input(\"Enter the Passenger's Name \")\n",
        "for i in name:\n",
        "  print(i)"
      ],
      "metadata": {
        "colab": {
          "base_uri": "https://localhost:8080/"
        },
        "id": "QIzdD3Z3zmSP",
        "outputId": "e9d38c11-8f3d-4aa9-8f05-76c6bbe765b9"
      },
      "execution_count": 51,
      "outputs": [
        {
          "output_type": "stream",
          "name": "stdout",
          "text": [
            "Enter the Passenger's Name ANJANA\n",
            "A\n",
            "N\n",
            "J\n",
            "A\n",
            "N\n",
            "A\n"
          ]
        }
      ]
    },
    {
      "cell_type": "code",
      "source": [
        "for i in range(45,89,2):\n",
        "  print(i)"
      ],
      "metadata": {
        "colab": {
          "base_uri": "https://localhost:8080/"
        },
        "id": "oqNGdLhN1v_E",
        "outputId": "0460d05e-9518-4dfa-a1dc-00a9c6b5edb2"
      },
      "execution_count": 53,
      "outputs": [
        {
          "output_type": "stream",
          "name": "stdout",
          "text": [
            "45\n",
            "47\n",
            "49\n",
            "51\n",
            "53\n",
            "55\n",
            "57\n",
            "59\n",
            "61\n",
            "63\n",
            "65\n",
            "67\n",
            "69\n",
            "71\n",
            "73\n",
            "75\n",
            "77\n",
            "79\n",
            "81\n",
            "83\n",
            "85\n",
            "87\n"
          ]
        }
      ]
    },
    {
      "cell_type": "code",
      "source": [
        "a=0\n",
        "for i in range(1,11):\n",
        "  a=a+i\n",
        "  print(i,a)"
      ],
      "metadata": {
        "colab": {
          "base_uri": "https://localhost:8080/"
        },
        "id": "vby0yTJU4e3z",
        "outputId": "b7da9a2b-2872-458c-cc70-b72ff28f5f23"
      },
      "execution_count": 90,
      "outputs": [
        {
          "output_type": "stream",
          "name": "stdout",
          "text": [
            "1 1\n",
            "2 3\n",
            "3 6\n",
            "4 10\n",
            "5 15\n",
            "6 21\n",
            "7 28\n",
            "8 36\n",
            "9 45\n",
            "10 55\n"
          ]
        }
      ]
    },
    {
      "cell_type": "code",
      "source": [
        "for i in range(5):\n",
        "  for j in range(i):\n",
        "    print(i,end=\" \")\n",
        "  print(' ')"
      ],
      "metadata": {
        "colab": {
          "base_uri": "https://localhost:8080/"
        },
        "id": "RpPHQr2w457I",
        "outputId": "7f525a8a-0d8d-408c-e379-63850e66ce33"
      },
      "execution_count": 135,
      "outputs": [
        {
          "output_type": "stream",
          "name": "stdout",
          "text": [
            " \n",
            "1  \n",
            "2 2  \n",
            "3 3 3  \n",
            "4 4 4 4  \n"
          ]
        }
      ]
    },
    {
      "cell_type": "code",
      "source": [],
      "metadata": {
        "id": "7d9eogp2577O"
      },
      "execution_count": null,
      "outputs": []
    }
  ]
}