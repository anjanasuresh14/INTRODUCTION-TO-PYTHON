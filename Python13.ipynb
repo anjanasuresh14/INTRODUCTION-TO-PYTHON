{
  "nbformat": 4,
  "nbformat_minor": 0,
  "metadata": {
    "colab": {
      "provenance": [],
      "authorship_tag": "ABX9TyPg5+OGZn6eRkS+42BgTai2",
      "include_colab_link": true
    },
    "kernelspec": {
      "name": "python3",
      "display_name": "Python 3"
    },
    "language_info": {
      "name": "python"
    }
  },
  "cells": [
    {
      "cell_type": "markdown",
      "metadata": {
        "id": "view-in-github",
        "colab_type": "text"
      },
      "source": [
        "<a href=\"https://colab.research.google.com/github/anjanasuresh14/INTRODUCTION-TO-PYTHON/blob/main/Python13.ipynb\" target=\"_parent\"><img src=\"https://colab.research.google.com/assets/colab-badge.svg\" alt=\"Open In Colab\"/></a>"
      ]
    },
    {
      "cell_type": "code",
      "execution_count": 4,
      "metadata": {
        "colab": {
          "base_uri": "https://localhost:8080/",
          "height": 73
        },
        "id": "8NZzjRTRu1pT",
        "outputId": "d4c5d6ea-4dd3-41e8-d859-f96a23ff9632"
      },
      "outputs": [
        {
          "output_type": "display_data",
          "data": {
            "text/plain": [
              "<IPython.core.display.HTML object>"
            ],
            "text/html": [
              "\n",
              "     <input type=\"file\" id=\"files-2b084b7d-55ea-4ce5-b43c-8fc928745f56\" name=\"files[]\" multiple disabled\n",
              "        style=\"border:none\" />\n",
              "     <output id=\"result-2b084b7d-55ea-4ce5-b43c-8fc928745f56\">\n",
              "      Upload widget is only available when the cell has been executed in the\n",
              "      current browser session. Please rerun this cell to enable.\n",
              "      </output>\n",
              "      <script>// Copyright 2017 Google LLC\n",
              "//\n",
              "// Licensed under the Apache License, Version 2.0 (the \"License\");\n",
              "// you may not use this file except in compliance with the License.\n",
              "// You may obtain a copy of the License at\n",
              "//\n",
              "//      http://www.apache.org/licenses/LICENSE-2.0\n",
              "//\n",
              "// Unless required by applicable law or agreed to in writing, software\n",
              "// distributed under the License is distributed on an \"AS IS\" BASIS,\n",
              "// WITHOUT WARRANTIES OR CONDITIONS OF ANY KIND, either express or implied.\n",
              "// See the License for the specific language governing permissions and\n",
              "// limitations under the License.\n",
              "\n",
              "/**\n",
              " * @fileoverview Helpers for google.colab Python module.\n",
              " */\n",
              "(function(scope) {\n",
              "function span(text, styleAttributes = {}) {\n",
              "  const element = document.createElement('span');\n",
              "  element.textContent = text;\n",
              "  for (const key of Object.keys(styleAttributes)) {\n",
              "    element.style[key] = styleAttributes[key];\n",
              "  }\n",
              "  return element;\n",
              "}\n",
              "\n",
              "// Max number of bytes which will be uploaded at a time.\n",
              "const MAX_PAYLOAD_SIZE = 100 * 1024;\n",
              "\n",
              "function _uploadFiles(inputId, outputId) {\n",
              "  const steps = uploadFilesStep(inputId, outputId);\n",
              "  const outputElement = document.getElementById(outputId);\n",
              "  // Cache steps on the outputElement to make it available for the next call\n",
              "  // to uploadFilesContinue from Python.\n",
              "  outputElement.steps = steps;\n",
              "\n",
              "  return _uploadFilesContinue(outputId);\n",
              "}\n",
              "\n",
              "// This is roughly an async generator (not supported in the browser yet),\n",
              "// where there are multiple asynchronous steps and the Python side is going\n",
              "// to poll for completion of each step.\n",
              "// This uses a Promise to block the python side on completion of each step,\n",
              "// then passes the result of the previous step as the input to the next step.\n",
              "function _uploadFilesContinue(outputId) {\n",
              "  const outputElement = document.getElementById(outputId);\n",
              "  const steps = outputElement.steps;\n",
              "\n",
              "  const next = steps.next(outputElement.lastPromiseValue);\n",
              "  return Promise.resolve(next.value.promise).then((value) => {\n",
              "    // Cache the last promise value to make it available to the next\n",
              "    // step of the generator.\n",
              "    outputElement.lastPromiseValue = value;\n",
              "    return next.value.response;\n",
              "  });\n",
              "}\n",
              "\n",
              "/**\n",
              " * Generator function which is called between each async step of the upload\n",
              " * process.\n",
              " * @param {string} inputId Element ID of the input file picker element.\n",
              " * @param {string} outputId Element ID of the output display.\n",
              " * @return {!Iterable<!Object>} Iterable of next steps.\n",
              " */\n",
              "function* uploadFilesStep(inputId, outputId) {\n",
              "  const inputElement = document.getElementById(inputId);\n",
              "  inputElement.disabled = false;\n",
              "\n",
              "  const outputElement = document.getElementById(outputId);\n",
              "  outputElement.innerHTML = '';\n",
              "\n",
              "  const pickedPromise = new Promise((resolve) => {\n",
              "    inputElement.addEventListener('change', (e) => {\n",
              "      resolve(e.target.files);\n",
              "    });\n",
              "  });\n",
              "\n",
              "  const cancel = document.createElement('button');\n",
              "  inputElement.parentElement.appendChild(cancel);\n",
              "  cancel.textContent = 'Cancel upload';\n",
              "  const cancelPromise = new Promise((resolve) => {\n",
              "    cancel.onclick = () => {\n",
              "      resolve(null);\n",
              "    };\n",
              "  });\n",
              "\n",
              "  // Wait for the user to pick the files.\n",
              "  const files = yield {\n",
              "    promise: Promise.race([pickedPromise, cancelPromise]),\n",
              "    response: {\n",
              "      action: 'starting',\n",
              "    }\n",
              "  };\n",
              "\n",
              "  cancel.remove();\n",
              "\n",
              "  // Disable the input element since further picks are not allowed.\n",
              "  inputElement.disabled = true;\n",
              "\n",
              "  if (!files) {\n",
              "    return {\n",
              "      response: {\n",
              "        action: 'complete',\n",
              "      }\n",
              "    };\n",
              "  }\n",
              "\n",
              "  for (const file of files) {\n",
              "    const li = document.createElement('li');\n",
              "    li.append(span(file.name, {fontWeight: 'bold'}));\n",
              "    li.append(span(\n",
              "        `(${file.type || 'n/a'}) - ${file.size} bytes, ` +\n",
              "        `last modified: ${\n",
              "            file.lastModifiedDate ? file.lastModifiedDate.toLocaleDateString() :\n",
              "                                    'n/a'} - `));\n",
              "    const percent = span('0% done');\n",
              "    li.appendChild(percent);\n",
              "\n",
              "    outputElement.appendChild(li);\n",
              "\n",
              "    const fileDataPromise = new Promise((resolve) => {\n",
              "      const reader = new FileReader();\n",
              "      reader.onload = (e) => {\n",
              "        resolve(e.target.result);\n",
              "      };\n",
              "      reader.readAsArrayBuffer(file);\n",
              "    });\n",
              "    // Wait for the data to be ready.\n",
              "    let fileData = yield {\n",
              "      promise: fileDataPromise,\n",
              "      response: {\n",
              "        action: 'continue',\n",
              "      }\n",
              "    };\n",
              "\n",
              "    // Use a chunked sending to avoid message size limits. See b/62115660.\n",
              "    let position = 0;\n",
              "    do {\n",
              "      const length = Math.min(fileData.byteLength - position, MAX_PAYLOAD_SIZE);\n",
              "      const chunk = new Uint8Array(fileData, position, length);\n",
              "      position += length;\n",
              "\n",
              "      const base64 = btoa(String.fromCharCode.apply(null, chunk));\n",
              "      yield {\n",
              "        response: {\n",
              "          action: 'append',\n",
              "          file: file.name,\n",
              "          data: base64,\n",
              "        },\n",
              "      };\n",
              "\n",
              "      let percentDone = fileData.byteLength === 0 ?\n",
              "          100 :\n",
              "          Math.round((position / fileData.byteLength) * 100);\n",
              "      percent.textContent = `${percentDone}% done`;\n",
              "\n",
              "    } while (position < fileData.byteLength);\n",
              "  }\n",
              "\n",
              "  // All done.\n",
              "  yield {\n",
              "    response: {\n",
              "      action: 'complete',\n",
              "    }\n",
              "  };\n",
              "}\n",
              "\n",
              "scope.google = scope.google || {};\n",
              "scope.google.colab = scope.google.colab || {};\n",
              "scope.google.colab._files = {\n",
              "  _uploadFiles,\n",
              "  _uploadFilesContinue,\n",
              "};\n",
              "})(self);\n",
              "</script> "
            ]
          },
          "metadata": {}
        },
        {
          "output_type": "stream",
          "name": "stdout",
          "text": [
            "Saving Supermarket_sales.csv to Supermarket_sales.csv\n"
          ]
        }
      ],
      "source": [
        "from google.colab import files\n",
        "supermarket=files.upload()"
      ]
    },
    {
      "cell_type": "code",
      "source": [
        "import pandas as pd\n",
        "dataframe=pd.read_csv('Supermarket_sales.csv')\n",
        "'''print(dataframe.head(10))\n",
        "print(dataframe.tail(8))\n",
        "dataframe[['City','Branch']]\n",
        "dataframe.drop('Tax',axis=1)\n",
        "dataframe.drop('gross_margin_percentage',axis=1)\n",
        "dataframe.drop([2],axis=0)\n",
        "max_overall=dataframe.Unitprice.idxmax()\n",
        "print(max_overall)\n",
        "min_overall=dataframe.Unitprice.mean()\n",
        "print(min_overall)\n",
        "print(dataframe.loc[dataframe['Customertype']=='Normal'])'''\n",
        "print(dataframe.loc[dataframe['Gender']=='Male'])"
      ],
      "metadata": {
        "colab": {
          "base_uri": "https://localhost:8080/"
        },
        "id": "7PZNgQ9Jw9Az",
        "outputId": "6ac97e77-79c5-4355-8a69-2de6930bb111"
      },
      "execution_count": 47,
      "outputs": [
        {
          "output_type": "stream",
          "name": "stdout",
          "text": [
            "      No    InvoiceID Branch       City Customertype  Gender  \\\n",
            "1      2  226-31-3081      C  Naypyitaw       Normal  Female   \n",
            "2      3  631-41-3108      A     Yangon       Normal    Male   \n",
            "4      5  373-73-7910      A     Yangon       Normal    Male   \n",
            "5      6  699-14-3026      C  Naypyitaw       Normal    Male   \n",
            "7      8  315-22-5665      C  Naypyitaw       Normal  Female   \n",
            "..   ...          ...    ...        ...          ...     ...   \n",
            "992  993  745-74-0715      A     Yangon       Normal    Male   \n",
            "993  994  690-01-6631      B   Mandalay       Normal    Male   \n",
            "995  996  233-67-5758      C  Naypyitaw       Normal    Male   \n",
            "996  997  303-96-2227      B   Mandalay       Normal  Female   \n",
            "998  999  347-56-2442      A     Yangon       Normal    Male   \n",
            "\n",
            "                Productline  Unitprice  Quantity      Tax      Total  \\\n",
            "1    Electronic accessories      15.28         5   3.8200    80.2200   \n",
            "2        Home and lifestyle      46.33         7  16.2155   340.5255   \n",
            "4         Sports and travel      86.31         7  30.2085   634.3785   \n",
            "5    Electronic accessories      85.39         7  29.8865   627.6165   \n",
            "7        Home and lifestyle      73.56        10  36.7800   772.3800   \n",
            "..                      ...        ...       ...      ...        ...   \n",
            "992  Electronic accessories      58.03         2   5.8030   121.8630   \n",
            "993     Fashion accessories      17.49        10   8.7450   183.6450   \n",
            "995       Health and beauty      40.35         1   2.0175    42.3675   \n",
            "996      Home and lifestyle      97.38        10  48.6900  1022.4900   \n",
            "998      Home and lifestyle      65.82         1   3.2910    69.1110   \n",
            "\n",
            "          Date   Time      Payment    cogs  gross_margin_percentage  \\\n",
            "1     3/8/2019  10:29         Cash   76.40                 4.761905   \n",
            "2     3/3/2019  13:23  Credit card  324.31                 4.761905   \n",
            "4     2/8/2019  10:37      Ewallet  604.17                 4.761905   \n",
            "5    3/25/2019  18:30      Ewallet  597.73                 4.761905   \n",
            "7    2/24/2019  11:38      Ewallet  735.60                 4.761905   \n",
            "..         ...    ...          ...     ...                      ...   \n",
            "992  3/10/2019  20:46      Ewallet  116.06                 4.761905   \n",
            "993  2/22/2019  18:35      Ewallet  174.90                 4.761905   \n",
            "995  1/29/2019  13:46      Ewallet   40.35                 4.761905   \n",
            "996   3/2/2019  17:16      Ewallet  973.80                 4.761905   \n",
            "998  2/22/2019  15:33         Cash   65.82                 4.761905   \n",
            "\n",
            "     gross_iincome  Rating  \n",
            "1           3.8200     9.6  \n",
            "2          16.2155     7.4  \n",
            "4          30.2085     5.3  \n",
            "5          29.8865     4.1  \n",
            "7          36.7800     8.0  \n",
            "..             ...     ...  \n",
            "992         5.8030     8.8  \n",
            "993         8.7450     6.6  \n",
            "995         2.0175     6.2  \n",
            "996        48.6900     4.4  \n",
            "998         3.2910     4.1  \n",
            "\n",
            "[499 rows x 18 columns]\n",
            "      No    InvoiceID Branch       City Customertype Gender  \\\n",
            "2      3  631-41-3108      A     Yangon       Normal   Male   \n",
            "3      4  123-19-1176      A     Yangon       Member   Male   \n",
            "4      5  373-73-7910      A     Yangon       Normal   Male   \n",
            "5      6  699-14-3026      C  Naypyitaw       Normal   Male   \n",
            "11    12  529-56-3974      B   Mandalay       Member   Male   \n",
            "..   ...          ...    ...        ...          ...    ...   \n",
            "992  993  745-74-0715      A     Yangon       Normal   Male   \n",
            "993  994  690-01-6631      B   Mandalay       Normal   Male   \n",
            "995  996  233-67-5758      C  Naypyitaw       Normal   Male   \n",
            "997  998  727-02-1313      A     Yangon       Member   Male   \n",
            "998  999  347-56-2442      A     Yangon       Normal   Male   \n",
            "\n",
            "                Productline  Unitprice  Quantity      Tax     Total  \\\n",
            "2        Home and lifestyle      46.33         7  16.2155  340.5255   \n",
            "3         Health and beauty      58.22         8  23.2880  489.0480   \n",
            "4         Sports and travel      86.31         7  30.2085  634.3785   \n",
            "5    Electronic accessories      85.39         7  29.8865  627.6165   \n",
            "11   Electronic accessories      25.51         4   5.1020  107.1420   \n",
            "..                      ...        ...       ...      ...       ...   \n",
            "992  Electronic accessories      58.03         2   5.8030  121.8630   \n",
            "993     Fashion accessories      17.49        10   8.7450  183.6450   \n",
            "995       Health and beauty      40.35         1   2.0175   42.3675   \n",
            "997      Food and beverages      31.84         1   1.5920   33.4320   \n",
            "998      Home and lifestyle      65.82         1   3.2910   69.1110   \n",
            "\n",
            "          Date   Time      Payment    cogs  gross_margin_percentage  \\\n",
            "2     3/3/2019  13:23  Credit card  324.31                 4.761905   \n",
            "3    1/27/2019  20:33      Ewallet  465.76                 4.761905   \n",
            "4     2/8/2019  10:37      Ewallet  604.17                 4.761905   \n",
            "5    3/25/2019  18:30      Ewallet  597.73                 4.761905   \n",
            "11    3/9/2019  17:03         Cash  102.04                 4.761905   \n",
            "..         ...    ...          ...     ...                      ...   \n",
            "992  3/10/2019  20:46      Ewallet  116.06                 4.761905   \n",
            "993  2/22/2019  18:35      Ewallet  174.90                 4.761905   \n",
            "995  1/29/2019  13:46      Ewallet   40.35                 4.761905   \n",
            "997   2/9/2019  13:22         Cash   31.84                 4.761905   \n",
            "998  2/22/2019  15:33         Cash   65.82                 4.761905   \n",
            "\n",
            "     gross_iincome  Rating  \n",
            "2          16.2155     7.4  \n",
            "3          23.2880     8.4  \n",
            "4          30.2085     5.3  \n",
            "5          29.8865     4.1  \n",
            "11          5.1020     6.8  \n",
            "..             ...     ...  \n",
            "992         5.8030     8.8  \n",
            "993         8.7450     6.6  \n",
            "995         2.0175     6.2  \n",
            "997         1.5920     7.7  \n",
            "998         3.2910     4.1  \n",
            "\n",
            "[499 rows x 18 columns]\n"
          ]
        }
      ]
    },
    {
      "cell_type": "code",
      "source": [
        "import numpy as np\n",
        "L=[1,2,3,4,5,6,7,8,9,10]\n",
        "D=np.array(L)\n",
        "print(D)"
      ],
      "metadata": {
        "colab": {
          "base_uri": "https://localhost:8080/"
        },
        "id": "wu4FWRGOxspZ",
        "outputId": "246b16b9-c878-4687-b4d4-aa662f863072"
      },
      "execution_count": 48,
      "outputs": [
        {
          "output_type": "stream",
          "name": "stdout",
          "text": [
            "[ 1  2  3  4  5  6  7  8  9 10]\n"
          ]
        }
      ]
    },
    {
      "cell_type": "code",
      "source": [
        "import numpy as np\n",
        "m1=[[12,14,10],[15,19,20],[11,15,19]]\n",
        "marray=np.array(m1)\n",
        "print(marray)"
      ],
      "metadata": {
        "colab": {
          "base_uri": "https://localhost:8080/"
        },
        "id": "cQ7z9wcf9FWw",
        "outputId": "4483d7c6-6577-4ff6-840d-58d2f06e5ecb"
      },
      "execution_count": 52,
      "outputs": [
        {
          "output_type": "stream",
          "name": "stdout",
          "text": [
            "[[12 14 10]\n",
            " [15 19 20]\n",
            " [11 15 19]]\n"
          ]
        }
      ]
    },
    {
      "cell_type": "code",
      "source": [
        "import numpy as np\n",
        "m=[[12,13],[13,14],[15,16],[17,18]]\n",
        "m1array=np.array(m)\n",
        "print(m1array)"
      ],
      "metadata": {
        "colab": {
          "base_uri": "https://localhost:8080/"
        },
        "id": "DnlO_Kil93ur",
        "outputId": "5d20b4ab-feb5-4fd1-c9b7-91987b3bcf9b"
      },
      "execution_count": 51,
      "outputs": [
        {
          "output_type": "stream",
          "name": "stdout",
          "text": [
            "[[12 13]\n",
            " [13 14]\n",
            " [15 16]\n",
            " [17 18]]\n"
          ]
        }
      ]
    },
    {
      "cell_type": "code",
      "source": [
        "v1=np.arange(20)\n",
        "print(v1)"
      ],
      "metadata": {
        "colab": {
          "base_uri": "https://localhost:8080/"
        },
        "id": "TUD2ka6c-anD",
        "outputId": "18066752-05ef-444a-895b-47b844bba2b8"
      },
      "execution_count": 53,
      "outputs": [
        {
          "output_type": "stream",
          "name": "stdout",
          "text": [
            "[ 0  1  2  3  4  5  6  7  8  9 10 11 12 13 14 15 16 17 18 19]\n"
          ]
        }
      ]
    },
    {
      "cell_type": "code",
      "source": [
        "v2=np.arange(1,11)\n",
        "print(v2)"
      ],
      "metadata": {
        "colab": {
          "base_uri": "https://localhost:8080/"
        },
        "id": "s6cc-ojDAJZa",
        "outputId": "f1be8aaf-d8f1-403f-d71f-09646719c864"
      },
      "execution_count": 54,
      "outputs": [
        {
          "output_type": "stream",
          "name": "stdout",
          "text": [
            "[ 1  2  3  4  5  6  7  8  9 10]\n"
          ]
        }
      ]
    },
    {
      "cell_type": "code",
      "source": [
        "v2=np.arange(5,11)\n",
        "print(v2)"
      ],
      "metadata": {
        "colab": {
          "base_uri": "https://localhost:8080/"
        },
        "id": "VEFx_z_7AWaa",
        "outputId": "1e5f0850-942e-4ed1-c067-4787d1ff0a5d"
      },
      "execution_count": 55,
      "outputs": [
        {
          "output_type": "stream",
          "name": "stdout",
          "text": [
            "[ 5  6  7  8  9 10]\n"
          ]
        }
      ]
    },
    {
      "cell_type": "code",
      "source": [
        "v3=np.arange(70,100,3)\n",
        "print(v3)"
      ],
      "metadata": {
        "colab": {
          "base_uri": "https://localhost:8080/"
        },
        "id": "qDtxPnS5AooZ",
        "outputId": "674050c3-a69f-4fdf-b314-3ecdd3a64d54"
      },
      "execution_count": 58,
      "outputs": [
        {
          "output_type": "stream",
          "name": "stdout",
          "text": [
            "[70 73 76 79 82 85 88 91 94 97]\n"
          ]
        }
      ]
    },
    {
      "cell_type": "code",
      "source": [
        "z=np.zeros((2,6))\n",
        "print(z)"
      ],
      "metadata": {
        "colab": {
          "base_uri": "https://localhost:8080/"
        },
        "id": "bk2oVAArAucx",
        "outputId": "ff04a5c0-93e8-436e-8035-be01f5ad5ad5"
      },
      "execution_count": 59,
      "outputs": [
        {
          "output_type": "stream",
          "name": "stdout",
          "text": [
            "[[0. 0. 0. 0. 0. 0.]\n",
            " [0. 0. 0. 0. 0. 0.]]\n"
          ]
        }
      ]
    },
    {
      "cell_type": "code",
      "source": [
        "o=np.ones(6)\n",
        "print(o)"
      ],
      "metadata": {
        "colab": {
          "base_uri": "https://localhost:8080/"
        },
        "id": "Cy2TpLywB6bX",
        "outputId": "853157e3-aeef-491b-9b79-81b1e8846ba0"
      },
      "execution_count": 61,
      "outputs": [
        {
          "output_type": "stream",
          "name": "stdout",
          "text": [
            "[1. 1. 1. 1. 1. 1.]\n"
          ]
        }
      ]
    },
    {
      "cell_type": "code",
      "source": [
        "o1=np.ones((8,2))\n",
        "print(o1)"
      ],
      "metadata": {
        "colab": {
          "base_uri": "https://localhost:8080/"
        },
        "id": "GoVOR5pcCnYq",
        "outputId": "5dfdad10-a6b1-4e74-8fdd-39dace1260ff"
      },
      "execution_count": 63,
      "outputs": [
        {
          "output_type": "stream",
          "name": "stdout",
          "text": [
            "[[1. 1.]\n",
            " [1. 1.]\n",
            " [1. 1.]\n",
            " [1. 1.]\n",
            " [1. 1.]\n",
            " [1. 1.]\n",
            " [1. 1.]\n",
            " [1. 1.]]\n"
          ]
        }
      ]
    },
    {
      "cell_type": "code",
      "source": [
        "i=np.eye(10)\n",
        "print(i)\n",
        "len(i)"
      ],
      "metadata": {
        "colab": {
          "base_uri": "https://localhost:8080/"
        },
        "id": "Vuq9ZzI2CyXp",
        "outputId": "33503b3c-4cd9-4dbd-8898-2339e918e894"
      },
      "execution_count": 66,
      "outputs": [
        {
          "output_type": "stream",
          "name": "stdout",
          "text": [
            "[[1. 0. 0. 0. 0. 0. 0. 0. 0. 0.]\n",
            " [0. 1. 0. 0. 0. 0. 0. 0. 0. 0.]\n",
            " [0. 0. 1. 0. 0. 0. 0. 0. 0. 0.]\n",
            " [0. 0. 0. 1. 0. 0. 0. 0. 0. 0.]\n",
            " [0. 0. 0. 0. 1. 0. 0. 0. 0. 0.]\n",
            " [0. 0. 0. 0. 0. 1. 0. 0. 0. 0.]\n",
            " [0. 0. 0. 0. 0. 0. 1. 0. 0. 0.]\n",
            " [0. 0. 0. 0. 0. 0. 0. 1. 0. 0.]\n",
            " [0. 0. 0. 0. 0. 0. 0. 0. 1. 0.]\n",
            " [0. 0. 0. 0. 0. 0. 0. 0. 0. 1.]]\n"
          ]
        },
        {
          "output_type": "execute_result",
          "data": {
            "text/plain": [
              "10"
            ]
          },
          "metadata": {},
          "execution_count": 66
        }
      ]
    },
    {
      "cell_type": "code",
      "source": [
        "f=np.array([[1,2,3],[4,5,6],[7,8,9],[4,0,7]])\n",
        "print(f.reshape(6,2))"
      ],
      "metadata": {
        "colab": {
          "base_uri": "https://localhost:8080/"
        },
        "id": "l9S-T9VuDDAX",
        "outputId": "6b49e9be-56c6-4051-e3f3-b18fe031fabf"
      },
      "execution_count": 73,
      "outputs": [
        {
          "output_type": "stream",
          "name": "stdout",
          "text": [
            "[[1 2]\n",
            " [3 4]\n",
            " [5 6]\n",
            " [7 8]\n",
            " [9 4]\n",
            " [0 7]]\n"
          ]
        }
      ]
    },
    {
      "cell_type": "code",
      "source": [
        "v=np.random.randint(44,88,6)\n",
        "print(v)"
      ],
      "metadata": {
        "colab": {
          "base_uri": "https://localhost:8080/"
        },
        "id": "wSiQAhLgENXA",
        "outputId": "8b4e9838-f0e4-40a3-e3d4-a47888bad25e"
      },
      "execution_count": 76,
      "outputs": [
        {
          "output_type": "stream",
          "name": "stdout",
          "text": [
            "[68 75 79 83 47 71]\n"
          ]
        }
      ]
    },
    {
      "cell_type": "code",
      "source": [
        "v=np.random.randint(25,50,(4,3))\n",
        "print(v)"
      ],
      "metadata": {
        "colab": {
          "base_uri": "https://localhost:8080/"
        },
        "id": "IMlRz8I8Ge2p",
        "outputId": "fa811dd0-4308-4992-d730-2e7b263b7d60"
      },
      "execution_count": 77,
      "outputs": [
        {
          "output_type": "stream",
          "name": "stdout",
          "text": [
            "[[46 28 29]\n",
            " [33 44 33]\n",
            " [44 47 49]\n",
            " [34 31 34]]\n"
          ]
        }
      ]
    },
    {
      "cell_type": "code",
      "source": [],
      "metadata": {
        "id": "2OBa0U26Hcak"
      },
      "execution_count": null,
      "outputs": []
    }
  ]
}