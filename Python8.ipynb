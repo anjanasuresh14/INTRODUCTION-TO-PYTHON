{
  "nbformat": 4,
  "nbformat_minor": 0,
  "metadata": {
    "colab": {
      "provenance": [],
      "authorship_tag": "ABX9TyP9LEu1lWtFTkftDKJBEV84",
      "include_colab_link": true
    },
    "kernelspec": {
      "name": "python3",
      "display_name": "Python 3"
    },
    "language_info": {
      "name": "python"
    }
  },
  "cells": [
    {
      "cell_type": "markdown",
      "metadata": {
        "id": "view-in-github",
        "colab_type": "text"
      },
      "source": [
        "<a href=\"https://colab.research.google.com/github/anjanasuresh14/INTRODUCTION-TO-PYTHON/blob/main/Python8.ipynb\" target=\"_parent\"><img src=\"https://colab.research.google.com/assets/colab-badge.svg\" alt=\"Open In Colab\"/></a>"
      ]
    },
    {
      "cell_type": "code",
      "execution_count": null,
      "metadata": {
        "colab": {
          "base_uri": "https://localhost:8080/"
        },
        "id": "71M2vFRDhsbq",
        "outputId": "baa3053f-5a5e-4c81-a70c-522da0418ac2"
      },
      "outputs": [
        {
          "output_type": "stream",
          "name": "stdout",
          "text": [
            "Enter a number 3\n",
            "Absolute Value: 3\n"
          ]
        }
      ],
      "source": [
        "n=int(input('Enter a number '))\n",
        "if n<0:\n",
        "  print('Absolute Value:',n*-1)\n",
        "else:\n",
        "  print('Absolute Value:',n)"
      ]
    },
    {
      "cell_type": "code",
      "source": [
        "mark=int(input('Enter Marks'))\n",
        "if mark<25:\n",
        "  print('F')\n",
        "elif mark>=25 and mark<45:\n",
        "  print('E')\n",
        "elif mark>=45 and mark<50:\n",
        "  print('D')\n",
        "elif mark>=50 and mark<60:\n",
        "  print('C')\n",
        "elif mark>=60 and mark<80:\n",
        "  print('B')\n",
        "elif mark>=80:\n",
        "  print('A')"
      ],
      "metadata": {
        "colab": {
          "base_uri": "https://localhost:8080/"
        },
        "id": "z1E4ZFtOjixu",
        "outputId": "4261abc3-0342-49f9-bbab-318c04819577"
      },
      "execution_count": null,
      "outputs": [
        {
          "output_type": "stream",
          "name": "stdout",
          "text": [
            "Enter Marks100\n",
            "A\n"
          ]
        }
      ]
    },
    {
      "cell_type": "code",
      "source": [
        "h=int(input('Enter the number of classes held '))\n",
        "a=int(input('Enter the number of classes attended '))\n",
        "if (a/h)*100>=75:\n",
        "  print('Percentage of class attended:',(a/h)*100)\n",
        "  print('ALLOWED TO SIT FOR EXAM')\n",
        "elif (a/h)*100<=75:\n",
        "  print('Percentage of class attended:',(a/h)*100)\n",
        "  print('NOT ALLOWED TO SIT FOR EXAM')"
      ],
      "metadata": {
        "colab": {
          "base_uri": "https://localhost:8080/"
        },
        "id": "6_rfRoo6nsdB",
        "outputId": "5400ecc9-52a5-4c83-e00d-7b1a4bf408b9"
      },
      "execution_count": null,
      "outputs": [
        {
          "output_type": "stream",
          "name": "stdout",
          "text": [
            "Enter the number of classes held 50\n",
            "Enter the number of classes attended 45\n",
            "Percentage of class attended: 90.0\n",
            "ALLOWED TO SIT FOR EXAM\n"
          ]
        }
      ]
    },
    {
      "cell_type": "code",
      "source": [
        "print(' 1. Addition \\n 2. Subtraction \\n 3. Multiplication \\n 4. Division \\n 5. Modulus \\n 6. Floor Division \\n 7. Exponent')\n",
        "n=int(input('Enter the operaton to be performed '))\n",
        "a=int(input('Enter the first number '))\n",
        "b=int(input('Enter the second number '))\n",
        "if n==1:\n",
        "  add=a+b\n",
        "  print('Sum is:',add)\n",
        "elif n==2:\n",
        "  sub=a-b\n",
        "  print('Difference is:',sub)\n",
        "elif n==3:\n",
        "  mul=a*b\n",
        "  print('Product is:',mul)\n",
        "elif n==4:\n",
        "  div=a/b\n",
        "  print('Division:',div)\n",
        "elif n==5:\n",
        "  mod=a%b\n",
        "  print('Modulus:',mod)\n",
        "elif n==6:\n",
        "  flr=a//b\n",
        "  print('Floor Division:',flr)\n",
        "elif n==7:\n",
        "  exp=a**b\n",
        "  print('Exponent:',exp)"
      ],
      "metadata": {
        "colab": {
          "base_uri": "https://localhost:8080/"
        },
        "id": "_v1v9jsro55A",
        "outputId": "4509e1c7-3103-4ad6-984b-aa8fd165b442"
      },
      "execution_count": null,
      "outputs": [
        {
          "output_type": "stream",
          "name": "stdout",
          "text": [
            " 1. Addition \n",
            " 2. Subtraction \n",
            " 3. Multiplication \n",
            " 4. Division \n",
            " 5. Modulus \n",
            " 6. Floor Division \n",
            " 7. Exponent\n",
            "Enter the operaton to be performed 7\n",
            "Enter the first number 2\n",
            "Enter the second number 2\n",
            "Exponent: 4\n"
          ]
        }
      ]
    },
    {
      "cell_type": "code",
      "source": [
        "import statistics  \n",
        "m1=int(input('Enter marks of first subject '))\n",
        "m2=int(input('Enter marks of second subject '))\n",
        "m3=int(input('Enter marks of third subject '))\n",
        "m4=int(input('Enter marks of fourth subject '))\n",
        "m5=int(input('Enter marks of fifth subject '))\n",
        "m=m1,m2,m3,m4,m5\n",
        "print('Least marks:',min(m1,m2,m3,m4,m5))\n",
        "print('Maximum marks:',max(m1,m2,m3,m4,m5))\n",
        "print('Average marks:',statistics.mean(m))\n",
        "print('Round off marks',round(statistics.mean(m),2))"
      ],
      "metadata": {
        "colab": {
          "base_uri": "https://localhost:8080/"
        },
        "id": "0IQZBprWrHc5",
        "outputId": "370544d1-d957-4cfb-f060-647b211fc19f"
      },
      "execution_count": null,
      "outputs": [
        {
          "output_type": "stream",
          "name": "stdout",
          "text": [
            "Enter marks of first subject 55.333367\n",
            "Enter marks of second subject 67\n",
            "Enter marks of third subject 45\n",
            "Enter marks of fourth subject 93\n",
            "Enter marks of fifth subject 22\n",
            "Least marks: 22\n",
            "Maximum marks: 93\n",
            "Average marks: 56.4666734\n",
            "Round off marks 56.47\n"
          ]
        }
      ]
    },
    {
      "cell_type": "code",
      "source": [],
      "metadata": {
        "id": "jdd1j6hq3dOl"
      },
      "execution_count": null,
      "outputs": []
    },
    {
      "cell_type": "code",
      "source": [
        "x=input('Enter a case conversation ')\n",
        "if x.isupper():\n",
        "  print(x.lower())\n",
        "elif x.lower():\n",
        "  print(x.upper())\n",
        "print('Number of alphabets:',len(x))"
      ],
      "metadata": {
        "colab": {
          "base_uri": "https://localhost:8080/"
        },
        "id": "kWNmUy9YyIkD",
        "outputId": "46990b86-d383-4c1b-af3b-7153046de277"
      },
      "execution_count": 15,
      "outputs": [
        {
          "output_type": "stream",
          "name": "stdout",
          "text": [
            "Enter a case conversation asdfgh\n",
            "ASDFGH\n",
            "Number of alphabets: 6\n"
          ]
        }
      ]
    },
    {
      "cell_type": "code",
      "source": [],
      "metadata": {
        "id": "zKe-JZb-40l3"
      },
      "execution_count": null,
      "outputs": []
    }
  ]
}