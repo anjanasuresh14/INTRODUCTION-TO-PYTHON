{
  "nbformat": 4,
  "nbformat_minor": 0,
  "metadata": {
    "colab": {
      "provenance": [],
      "authorship_tag": "ABX9TyNH6P0ox3N8KlF2IsaJZwId",
      "include_colab_link": true
    },
    "kernelspec": {
      "name": "python3",
      "display_name": "Python 3"
    },
    "language_info": {
      "name": "python"
    }
  },
  "cells": [
    {
      "cell_type": "markdown",
      "metadata": {
        "id": "view-in-github",
        "colab_type": "text"
      },
      "source": [
        "<a href=\"https://colab.research.google.com/github/anjanasuresh14/INTRODUCTION-TO-PYTHON/blob/main/Python9.ipynb\" target=\"_parent\"><img src=\"https://colab.research.google.com/assets/colab-badge.svg\" alt=\"Open In Colab\"/></a>"
      ]
    },
    {
      "cell_type": "code",
      "execution_count": 29,
      "metadata": {
        "colab": {
          "base_uri": "https://localhost:8080/"
        },
        "id": "hmnJ13jSrdey",
        "outputId": "cb08ec01-5d47-48ad-856b-fab9ed2d931b"
      },
      "outputs": [
        {
          "output_type": "stream",
          "name": "stdout",
          "text": [
            "Enter a number 3\n",
            "1 x 3 = 3\n",
            "2 x 3 = 6\n",
            "3 x 3 = 9\n",
            "4 x 3 = 12\n",
            "5 x 3 = 15\n",
            "6 x 3 = 18\n",
            "7 x 3 = 21\n",
            "8 x 3 = 24\n",
            "9 x 3 = 27\n",
            "10 x 3 = 30\n"
          ]
        }
      ],
      "source": [
        "n=int(input('Enter a number '))\n",
        "for i in range(1,11):\n",
        "  print(i,'x',n,'=',i*n)"
      ]
    },
    {
      "cell_type": "code",
      "source": [
        "n=int(input('Enter a number '))\n",
        "a=1\n",
        "while a<=10:\n",
        "  print(a,'x',n,'=',a*n)\n",
        "  a=a+1"
      ],
      "metadata": {
        "colab": {
          "base_uri": "https://localhost:8080/"
        },
        "id": "XA_Bl6AFuQE_",
        "outputId": "0c263a2f-1adb-43db-ccb7-de864ee5ae46"
      },
      "execution_count": 25,
      "outputs": [
        {
          "output_type": "stream",
          "name": "stdout",
          "text": [
            "Enter a number 2\n",
            "1 x 2 = 2\n",
            "2 x 2 = 4\n",
            "3 x 2 = 6\n",
            "4 x 2 = 8\n",
            "5 x 2 = 10\n",
            "6 x 2 = 12\n",
            "7 x 2 = 14\n",
            "8 x 2 = 16\n",
            "9 x 2 = 18\n",
            "10 x 2 = 20\n"
          ]
        }
      ]
    },
    {
      "cell_type": "code",
      "source": [
        "n=int(input('Enter a number '))\n",
        "a=1\n",
        "while a<=n:\n",
        "  print(a)\n",
        "  a=a+1"
      ],
      "metadata": {
        "colab": {
          "base_uri": "https://localhost:8080/"
        },
        "id": "ilFuN1I5waJe",
        "outputId": "5233f47f-45ab-42b0-b51d-d5c4b129925e"
      },
      "execution_count": 28,
      "outputs": [
        {
          "output_type": "stream",
          "name": "stdout",
          "text": [
            "Enter a number 10\n",
            "1\n",
            "2\n",
            "3\n",
            "4\n",
            "5\n",
            "6\n",
            "7\n",
            "8\n",
            "9\n",
            "10\n"
          ]
        }
      ]
    },
    {
      "cell_type": "code",
      "source": [
        "n=input('Enter a number ')\n",
        "a=0\n",
        "for i in n:\n",
        "  a=a+1\n",
        "print(a)"
      ],
      "metadata": {
        "colab": {
          "base_uri": "https://localhost:8080/"
        },
        "id": "ppLIaFWfzlg8",
        "outputId": "4cca1bb6-27e2-4faa-9426-59aa09400977"
      },
      "execution_count": 36,
      "outputs": [
        {
          "output_type": "stream",
          "name": "stdout",
          "text": [
            "Enter a number 345\n",
            "3\n"
          ]
        }
      ]
    },
    {
      "cell_type": "code",
      "source": [
        "x=input('Enter a string ')\n",
        "a=\"\"\n",
        "for i in x:\n",
        "  a=i+a\n",
        "print(a)\n",
        "ifx==a:\n",
        "  print('TRUE')\n",
        "else:\n",
        "  print('FALSE ')"
      ],
      "metadata": {
        "colab": {
          "base_uri": "https://localhost:8080/"
        },
        "id": "cPN0rYwt2qQA",
        "outputId": "0f165fbe-12bf-4f85-d5ed-c03dde7f292f"
      },
      "execution_count": 52,
      "outputs": [
        {
          "output_type": "stream",
          "name": "stdout",
          "text": [
            "Enter a string malayalam\n",
            "malayalam\n",
            "TRUE\n"
          ]
        }
      ]
    },
    {
      "cell_type": "code",
      "source": [
        "n=input('Enter username ')\n",
        "a=input('Enter a letter to search ')\n",
        "b=input('Enter the letter to replace ')\n",
        "if a in n:\n",
        "  print(n.replace(a,b))"
      ],
      "metadata": {
        "colab": {
          "base_uri": "https://localhost:8080/"
        },
        "id": "y6c9suAo3zm_",
        "outputId": "6177338c-f6c1-4b63-fbef-42a2b474d64c"
      },
      "execution_count": 57,
      "outputs": [
        {
          "output_type": "stream",
          "name": "stdout",
          "text": [
            "Enter username angana\n",
            "Enter a letter to search g\n",
            "Enter the letter to replace j\n",
            "anjana\n"
          ]
        }
      ]
    },
    {
      "cell_type": "code",
      "source": [
        "a=input('Enter Country name ')\n",
        "b=input('Enter Country name ')\n",
        "c=input('Enter Country name ')\n",
        "d=input('Enter Country name ')\n",
        "e=input('Enter Country name ')\n",
        "L=[a,b,c,d,e]\n",
        "print(sorted(L))\n",
        "f=input('Enter another country name ')\n",
        "L.append(f)\n",
        "print(L)"
      ],
      "metadata": {
        "colab": {
          "base_uri": "https://localhost:8080/"
        },
        "id": "KDoKE4DA9gtR",
        "outputId": "2b7a568c-098b-4007-fb18-c7e328a313d5"
      },
      "execution_count": 76,
      "outputs": [
        {
          "output_type": "stream",
          "name": "stdout",
          "text": [
            "Enter Country name INDIA\n",
            "Enter Country name CHINA\n",
            "Enter Country name PAKISTAN\n",
            "Enter Country name FRANCE\n",
            "Enter Country name GERMANY\n",
            "['CHINA', 'FRANCE', 'GERMANY', 'INDIA', 'PAKISTAN']\n",
            "Enter another country name ENGLAND\n",
            "['INDIA', 'CHINA', 'PAKISTAN', 'FRANCE', 'GERMANY', 'ENGLAND']\n"
          ]
        }
      ]
    },
    {
      "cell_type": "code",
      "source": [],
      "metadata": {
        "id": "7vCGKzGl-R1a"
      },
      "execution_count": null,
      "outputs": []
    }
  ]
}