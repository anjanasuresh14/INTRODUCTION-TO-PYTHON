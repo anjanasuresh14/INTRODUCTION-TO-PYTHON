{
  "nbformat": 4,
  "nbformat_minor": 0,
  "metadata": {
    "colab": {
      "provenance": [],
      "authorship_tag": "ABX9TyNnbj+iG+NFDMt7lzCylk6z",
      "include_colab_link": true
    },
    "kernelspec": {
      "name": "python3",
      "display_name": "Python 3"
    },
    "language_info": {
      "name": "python"
    }
  },
  "cells": [
    {
      "cell_type": "markdown",
      "metadata": {
        "id": "view-in-github",
        "colab_type": "text"
      },
      "source": [
        "<a href=\"https://colab.research.google.com/github/anjanasuresh14/INTRODUCTION-TO-PYTHON/blob/main/Python10.ipynb\" target=\"_parent\"><img src=\"https://colab.research.google.com/assets/colab-badge.svg\" alt=\"Open In Colab\"/></a>"
      ]
    },
    {
      "cell_type": "code",
      "execution_count": 1,
      "metadata": {
        "colab": {
          "base_uri": "https://localhost:8080/"
        },
        "id": "xL3kBzjp1SnX",
        "outputId": "ee66b1f6-7d7e-401b-a9ae-823e2dd1a368"
      },
      "outputs": [
        {
          "output_type": "execute_result",
          "data": {
            "text/plain": [
              "int"
            ]
          },
          "metadata": {},
          "execution_count": 1
        }
      ],
      "source": [
        "num=1\n",
        "type(num)"
      ]
    },
    {
      "cell_type": "code",
      "source": [
        "n=1.5\n",
        "type(n)"
      ],
      "metadata": {
        "colab": {
          "base_uri": "https://localhost:8080/"
        },
        "id": "0MxAwxQa3BYP",
        "outputId": "78829101-e5f9-4ec4-faa3-767a324b079b"
      },
      "execution_count": 2,
      "outputs": [
        {
          "output_type": "execute_result",
          "data": {
            "text/plain": [
              "float"
            ]
          },
          "metadata": {},
          "execution_count": 2
        }
      ]
    },
    {
      "cell_type": "code",
      "source": [
        "x=1\n",
        "y=1.5\n",
        "z=x+y\n",
        "type(z)"
      ],
      "metadata": {
        "colab": {
          "base_uri": "https://localhost:8080/"
        },
        "id": "f0za4gOF3dNk",
        "outputId": "ea5d0f5c-786d-4476-9007-066834127860"
      },
      "execution_count": 3,
      "outputs": [
        {
          "output_type": "execute_result",
          "data": {
            "text/plain": [
              "float"
            ]
          },
          "metadata": {},
          "execution_count": 3
        }
      ]
    },
    {
      "cell_type": "code",
      "source": [
        "c=10+5j\n",
        "type(c)"
      ],
      "metadata": {
        "colab": {
          "base_uri": "https://localhost:8080/"
        },
        "id": "fx8h2vr63oKU",
        "outputId": "9ea1255d-f0bb-435d-c47b-0b5b8e9fa501"
      },
      "execution_count": 6,
      "outputs": [
        {
          "output_type": "execute_result",
          "data": {
            "text/plain": [
              "complex"
            ]
          },
          "metadata": {},
          "execution_count": 6
        }
      ]
    },
    {
      "cell_type": "code",
      "source": [
        "name='Anjana'\n",
        "type(name)"
      ],
      "metadata": {
        "colab": {
          "base_uri": "https://localhost:8080/"
        },
        "id": "zUEwC6mp4NZC",
        "outputId": "0cfff219-8c14-43c0-d0bb-ac75a4e235de"
      },
      "execution_count": 7,
      "outputs": [
        {
          "output_type": "execute_result",
          "data": {
            "text/plain": [
              "str"
            ]
          },
          "metadata": {},
          "execution_count": 7
        }
      ]
    },
    {
      "cell_type": "code",
      "source": [
        "msg='I am a student of Rajagiri'\n",
        "type(msg)"
      ],
      "metadata": {
        "colab": {
          "base_uri": "https://localhost:8080/"
        },
        "id": "i-FFNH2A4bsk",
        "outputId": "d188468d-615d-474c-9067-49e098f6055c"
      },
      "execution_count": 8,
      "outputs": [
        {
          "output_type": "execute_result",
          "data": {
            "text/plain": [
              "str"
            ]
          },
          "metadata": {},
          "execution_count": 8
        }
      ]
    },
    {
      "cell_type": "code",
      "source": [
        "grade=['abc','efg','hij','klm','nop']\n",
        "type(grade)\n",
        "print(grade[0])"
      ],
      "metadata": {
        "colab": {
          "base_uri": "https://localhost:8080/"
        },
        "id": "_JLZ762n4k07",
        "outputId": "995645c8-8a3a-472f-b328-bef377485768"
      },
      "execution_count": 11,
      "outputs": [
        {
          "output_type": "stream",
          "name": "stdout",
          "text": [
            "abc\n"
          ]
        }
      ]
    },
    {
      "cell_type": "code",
      "source": [
        "names=['Ram','Shyam','Sita','Tina','Shiva']\n",
        "grade=['abc','efg','hij','klm','nop']\n",
        "print(grade+names)\n",
        "grade.pop()\n",
        "print(grade)\n",
        "grade.pop(1)"
      ],
      "metadata": {
        "colab": {
          "base_uri": "https://localhost:8080/",
          "height": 72
        },
        "id": "9nklqyBz5x2j",
        "outputId": "685dec53-40bb-490e-e3a7-05605c5bfc83"
      },
      "execution_count": 21,
      "outputs": [
        {
          "output_type": "stream",
          "name": "stdout",
          "text": [
            "['abc', 'efg', 'hij', 'klm', 'nop', 'Ram', 'Shyam', 'Sita', 'Tina', 'Shiva']\n",
            "['abc', 'efg', 'hij', 'klm']\n"
          ]
        },
        {
          "output_type": "execute_result",
          "data": {
            "text/plain": [
              "'efg'"
            ],
            "application/vnd.google.colaboratory.intrinsic+json": {
              "type": "string"
            }
          },
          "metadata": {},
          "execution_count": 21
        }
      ]
    },
    {
      "cell_type": "code",
      "source": [
        "letter=['M','S','A','Z','G']\n",
        "letter.append('O')\n",
        "print(letter)\n",
        "letter.sort()\n",
        "print(letter)\n",
        "letter.reverse()\n",
        "print(letter)\n",
        "letter.insert(2,'V')\n",
        "print(letter)"
      ],
      "metadata": {
        "colab": {
          "base_uri": "https://localhost:8080/"
        },
        "id": "3q7G7AJt76dP",
        "outputId": "398222de-64f5-4d06-b12b-bc5b196cb0b2"
      },
      "execution_count": 37,
      "outputs": [
        {
          "output_type": "stream",
          "name": "stdout",
          "text": [
            "['M', 'S', 'A', 'Z', 'G', 'O']\n",
            "['A', 'G', 'M', 'O', 'S', 'Z']\n",
            "['Z', 'S', 'O', 'M', 'G', 'A']\n",
            "['Z', 'S', 'V', 'O', 'M', 'G', 'A']\n"
          ]
        }
      ]
    },
    {
      "cell_type": "code",
      "source": [
        "lang=['English','Hindi','French','Malayalam']\n",
        "country=['America','India','France','Kerala']\n",
        "l=lang+country\n",
        "print(l)"
      ],
      "metadata": {
        "colab": {
          "base_uri": "https://localhost:8080/"
        },
        "id": "JlJ0oN71-VwC",
        "outputId": "77b98491-3308-4b69-a6c4-98ded341700b"
      },
      "execution_count": 39,
      "outputs": [
        {
          "output_type": "stream",
          "name": "stdout",
          "text": [
            "['English', 'Hindi', 'French', 'Malayalam', 'America', 'India', 'France', 'Kerala']\n"
          ]
        }
      ]
    },
    {
      "cell_type": "code",
      "source": [
        "tuple_items=(10,20,30,40,50,60,70,'xyz','abc','def')\n",
        "tuple_name=(50,70,'asd','opl')\n",
        "print(tuple_items)\n",
        "x=tuple_items+tuple_name\n",
        "print(x)"
      ],
      "metadata": {
        "colab": {
          "base_uri": "https://localhost:8080/"
        },
        "id": "akJ85fLCCy_3",
        "outputId": "5a69889e-e191-44ac-e644-a4f07e27319f"
      },
      "execution_count": 47,
      "outputs": [
        {
          "output_type": "stream",
          "name": "stdout",
          "text": [
            "(10, 20, 30, 40, 50, 60, 70, 'xyz', 'abc', 'def')\n",
            "(10, 20, 30, 40, 50, 60, 70, 'xyz', 'abc', 'def', 50, 70, 'asd', 'opl')\n"
          ]
        }
      ]
    },
    {
      "cell_type": "code",
      "source": [
        "marks=[10,20,20,30,40]\n",
        "set1=set(marks)\n",
        "print(set1)"
      ],
      "metadata": {
        "colab": {
          "base_uri": "https://localhost:8080/"
        },
        "id": "G_vcWEKNEEAm",
        "outputId": "7212f814-371f-4c22-8fc1-6c61ebc6389a"
      },
      "execution_count": 48,
      "outputs": [
        {
          "output_type": "stream",
          "name": "stdout",
          "text": [
            "{40, 10, 20, 30}\n"
          ]
        }
      ]
    },
    {
      "cell_type": "code",
      "source": [
        "s={'Name':'Anjana','Place':'Kochi','Number':1234567890}\n",
        "print(s)\n",
        "print(s.keys())\n",
        "print(s.values())\n",
        "print(s.items())\n",
        "#s.update({'DOB':'14-06-2004'})\n",
        "s['DOB']='14-06-2004'\n",
        "print(s)"
      ],
      "metadata": {
        "colab": {
          "base_uri": "https://localhost:8080/"
        },
        "id": "Hv_bhpG0GU1z",
        "outputId": "fb75dc25-9268-4bef-9bf4-126a68c902de"
      },
      "execution_count": 65,
      "outputs": [
        {
          "output_type": "stream",
          "name": "stdout",
          "text": [
            "{'Name': 'Anjana', 'Place': 'Kochi', 'Number': 1234567890}\n",
            "dict_keys(['Name', 'Place', 'Number'])\n",
            "dict_values(['Anjana', 'Kochi', 1234567890])\n",
            "dict_items([('Name', 'Anjana'), ('Place', 'Kochi'), ('Number', 1234567890)])\n",
            "{'Name': 'Anjana', 'Place': 'Kochi', 'Number': 1234567890, 'DOB': '14-06-2004'}\n"
          ]
        }
      ]
    },
    {
      "cell_type": "code",
      "source": [
        "def add(x,y):\n",
        "  return(x+y)\n",
        "add(2,3)"
      ],
      "metadata": {
        "colab": {
          "base_uri": "https://localhost:8080/"
        },
        "id": "SCCxI88zIl03",
        "outputId": "36607baf-75ab-42d7-e793-10f7e3f85010"
      },
      "execution_count": 66,
      "outputs": [
        {
          "output_type": "execute_result",
          "data": {
            "text/plain": [
              "5"
            ]
          },
          "metadata": {},
          "execution_count": 66
        }
      ]
    },
    {
      "cell_type": "code",
      "source": [
        "def product(x,y,z):\n",
        "  return(x*y*z)\n",
        "product(1,2,3)"
      ],
      "metadata": {
        "colab": {
          "base_uri": "https://localhost:8080/"
        },
        "id": "gy76tlEBLziK",
        "outputId": "aee11002-5609-4ba7-a5ad-00871945fff6"
      },
      "execution_count": 67,
      "outputs": [
        {
          "output_type": "execute_result",
          "data": {
            "text/plain": [
              "6"
            ]
          },
          "metadata": {},
          "execution_count": 67
        }
      ]
    },
    {
      "cell_type": "code",
      "source": [],
      "metadata": {
        "id": "rs0ilznDMGFg"
      },
      "execution_count": null,
      "outputs": []
    }
  ]
}