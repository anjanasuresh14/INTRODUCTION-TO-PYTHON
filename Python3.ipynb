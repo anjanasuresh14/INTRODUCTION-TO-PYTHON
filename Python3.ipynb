{
  "nbformat": 4,
  "nbformat_minor": 0,
  "metadata": {
    "colab": {
      "provenance": [],
      "authorship_tag": "ABX9TyPj0AphCVLG1FBG9NG4+QIM",
      "include_colab_link": true
    },
    "kernelspec": {
      "name": "python3",
      "display_name": "Python 3"
    },
    "language_info": {
      "name": "python"
    }
  },
  "cells": [
    {
      "cell_type": "markdown",
      "metadata": {
        "id": "view-in-github",
        "colab_type": "text"
      },
      "source": [
        "<a href=\"https://colab.research.google.com/github/anjanasuresh14/INTRODUCTION-TO-PYTHON/blob/main/Python3.ipynb\" target=\"_parent\"><img src=\"https://colab.research.google.com/assets/colab-badge.svg\" alt=\"Open In Colab\"/></a>"
      ]
    },
    {
      "cell_type": "code",
      "execution_count": null,
      "metadata": {
        "colab": {
          "base_uri": "https://localhost:8080/"
        },
        "id": "qaHJQk_xo4VI",
        "outputId": "00f93062-9543-4ddf-c7cb-02e686f84a6e"
      },
      "outputs": [
        {
          "output_type": "stream",
          "name": "stdout",
          "text": [
            "Enter Salary:100000000\n",
            "YOU ARE TAXABLE\n",
            "TAX: 31650000.0\n"
          ]
        }
      ],
      "source": [
        "s=int(input('Enter Salary:'))\n",
        "if s>=250000 and s<500000:\n",
        "  print('YOU ARE TAXABLE')\n",
        "  x=s-250000\n",
        "  t=x*0.10\n",
        "  print('TAX:',t)\n",
        "elif s>=500000 and s<750000:\n",
        "  print('YOU ARE TAXABLE')\n",
        "  x=250000*0.10\n",
        "  y=(s-500000)*0.20\n",
        "  print('TAX:',x+y)\n",
        "elif s>=750000 and s<10000000:\n",
        "  print('YOU ARE TAXABLE')\n",
        "  x=250000*0.10\n",
        "  y=250000*0.20\n",
        "  z=(s-750000)*0.30\n",
        "  print('TAX:',x+y+z)\n",
        "elif s>=10000000:\n",
        "  print('YOU ARE TAXABLE')\n",
        "  x=250000*0.10\n",
        "  y=250000*0.20\n",
        "  z=(s-750000)*0.30\n",
        "  a=(s-10000000)*0.02\n",
        "  print('TAX:',x+y+z+a)\n",
        "elif s<250000:\n",
        "  print('YOU ARE NOT TAXABLE')"
      ]
    },
    {
      "cell_type": "code",
      "source": [
        "s=int(input('Enter Salary:'))\n",
        "hra=int(input('Enter HRA'))\n",
        "if hra>s*0.60:\n",
        "  if s>=250000 and s<500000:\n",
        "     print('YOU ARE TAXABLE')\n",
        "     x=s-250000\n",
        "     t=x*0.10\n",
        "     print('TAX:',t)\n",
        "  elif s>=500000 and s<750000:\n",
        "     print('YOU ARE TAXABLE')\n",
        "     x=250000*0.10\n",
        "     y=(s-500000)*0.20\n",
        "     print('TAX:',x+y)\n",
        "  elif s>=750000 and s<10000000:\n",
        "    print('YOU ARE TAXABLE')\n",
        "    x=250000*0.10\n",
        "    y=250000*0.20\n",
        "    z=(s-750000)*0.30\n",
        "    print('TAX:',x+y+z)\n",
        "  elif s>=10000000:\n",
        "    print('YOU ARE TAXABLE')\n",
        "    x=250000*0.10\n",
        "    y=250000*0.20\n",
        "    z=(s-750000)*0.30\n",
        "    a=(s-10000000)*0.02\n",
        "    print('TAX:',x+y+z+a)\n",
        "  elif s<250000:\n",
        "    print('YOU ARE NOT TAXABLE') \n",
        "elif hra<s*0.60:\n",
        "  o=s*0.05\n",
        "  print('HRA',o)"
      ],
      "metadata": {
        "colab": {
          "base_uri": "https://localhost:8080/"
        },
        "id": "gseHrqK9p-HC",
        "outputId": "6f84da8a-cf1c-4d74-8642-039ae6222312"
      },
      "execution_count": null,
      "outputs": [
        {
          "output_type": "stream",
          "name": "stdout",
          "text": [
            "Enter Salary:1000000\n",
            "Enter HRA800000\n",
            "YOU ARE TAXABLE\n",
            "TAX: 150000.0\n"
          ]
        }
      ]
    },
    {
      "cell_type": "code",
      "source": [],
      "metadata": {
        "id": "MTVtq5-r7J2k"
      },
      "execution_count": null,
      "outputs": []
    }
  ]
}