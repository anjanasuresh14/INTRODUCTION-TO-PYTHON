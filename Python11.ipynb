{
  "nbformat": 4,
  "nbformat_minor": 0,
  "metadata": {
    "colab": {
      "provenance": [],
      "authorship_tag": "ABX9TyPpUTKGWORLlhazM9et60T8",
      "include_colab_link": true
    },
    "kernelspec": {
      "name": "python3",
      "display_name": "Python 3"
    },
    "language_info": {
      "name": "python"
    }
  },
  "cells": [
    {
      "cell_type": "markdown",
      "metadata": {
        "id": "view-in-github",
        "colab_type": "text"
      },
      "source": [
        "<a href=\"https://colab.research.google.com/github/anjanasuresh14/INTRODUCTION-TO-PYTHON/blob/main/Python11.ipynb\" target=\"_parent\"><img src=\"https://colab.research.google.com/assets/colab-badge.svg\" alt=\"Open In Colab\"/></a>"
      ]
    },
    {
      "cell_type": "code",
      "execution_count": 1,
      "metadata": {
        "id": "PQ7bwjSCleQJ",
        "colab": {
          "base_uri": "https://localhost:8080/",
          "height": 35
        },
        "outputId": "06feb998-a979-4aae-fa7d-374b8cdb427a"
      },
      "outputs": [
        {
          "output_type": "execute_result",
          "data": {
            "text/plain": [
              "'Figa World Cup'"
            ],
            "application/vnd.google.colaboratory.intrinsic+json": {
              "type": "string"
            }
          },
          "metadata": {},
          "execution_count": 1
        }
      ],
      "source": [
        "event=\"Fifa World Cup\" \n",
        "event.replace(\"f\", \"g\")"
      ]
    },
    {
      "cell_type": "code",
      "source": [
        "def fun_names():\n",
        "  print('Hello World')\n",
        "\n",
        "fun_names()"
      ],
      "metadata": {
        "colab": {
          "base_uri": "https://localhost:8080/"
        },
        "id": "AbU0dmVtsa9N",
        "outputId": "4445c2e4-fd9e-4481-93ba-caafe481e9e3"
      },
      "execution_count": 2,
      "outputs": [
        {
          "output_type": "stream",
          "name": "stdout",
          "text": [
            "Hello World\n"
          ]
        }
      ]
    },
    {
      "cell_type": "code",
      "source": [
        "def fun_names(x,y):\n",
        "  print(x +\" \"+ y)\n",
        "\n",
        "fun_names('John','Jacob')"
      ],
      "metadata": {
        "colab": {
          "base_uri": "https://localhost:8080/"
        },
        "id": "iuVJdcV0tSBd",
        "outputId": "cf7b980e-25de-43c8-a383-f2e57ce11a43"
      },
      "execution_count": 4,
      "outputs": [
        {
          "output_type": "stream",
          "name": "stdout",
          "text": [
            "John Jacob\n"
          ]
        }
      ]
    },
    {
      "cell_type": "code",
      "source": [
        "def fun_names(*x):\n",
        "  print('the third student name is : ',x[2])\n",
        "\n",
        "fun_names(1,2,3,4,5,6)"
      ],
      "metadata": {
        "colab": {
          "base_uri": "https://localhost:8080/"
        },
        "id": "eOePalf2t9FO",
        "outputId": "159fd9ba-da5a-4836-bc12-64355b88006d"
      },
      "execution_count": 6,
      "outputs": [
        {
          "output_type": "stream",
          "name": "stdout",
          "text": [
            "the third student name is :  3\n"
          ]
        }
      ]
    },
    {
      "cell_type": "code",
      "source": [
        "def fball():\n",
        "  print('Fifa World Cup')\n",
        "\n",
        "fball()"
      ],
      "metadata": {
        "colab": {
          "base_uri": "https://localhost:8080/"
        },
        "id": "XjdtQCsfuow_",
        "outputId": "88444dbf-19d3-4fd5-d6bb-3ab5c818bced"
      },
      "execution_count": 8,
      "outputs": [
        {
          "output_type": "stream",
          "name": "stdout",
          "text": [
            "Fifa World Cup\n"
          ]
        }
      ]
    },
    {
      "cell_type": "code",
      "source": [
        "def name(a,b,c):\n",
        "  print(a,b,c)\n",
        "\n",
        "name('Anjana','Suresh','Babu')"
      ],
      "metadata": {
        "colab": {
          "base_uri": "https://localhost:8080/"
        },
        "id": "BTzRVeQqvaLT",
        "outputId": "9445a7df-8761-4e92-ff64-ddebdadfd8c9"
      },
      "execution_count": 14,
      "outputs": [
        {
          "output_type": "stream",
          "name": "stdout",
          "text": [
            "Anjana Suresh Babu\n"
          ]
        }
      ]
    },
    {
      "cell_type": "code",
      "source": [
        "def name(a,b,c):\n",
        "  print(c,b,a)\n",
        "\n",
        "name(c='Babu',b='Suresh',a='Anjana')"
      ],
      "metadata": {
        "colab": {
          "base_uri": "https://localhost:8080/"
        },
        "id": "ROJZ36emv9Am",
        "outputId": "3e581d23-e587-40d5-80d7-c99891b13456"
      },
      "execution_count": 17,
      "outputs": [
        {
          "output_type": "stream",
          "name": "stdout",
          "text": [
            "Babu Suresh Anjana\n"
          ]
        }
      ]
    },
    {
      "cell_type": "code",
      "source": [
        "def fun_names(*x):\n",
        "  print('the second favorite football player: ',x[1])\n",
        "\n",
        "fun_names('Messi','Ronaldo','Neymar')"
      ],
      "metadata": {
        "colab": {
          "base_uri": "https://localhost:8080/"
        },
        "id": "pE4T8vykw0JD",
        "outputId": "5dceb027-9263-4d82-aefc-4fbb982157f2"
      },
      "execution_count": 19,
      "outputs": [
        {
          "output_type": "stream",
          "name": "stdout",
          "text": [
            "the second favorite football player:  Ronaldo\n"
          ]
        }
      ]
    },
    {
      "cell_type": "code",
      "source": [
        "def team(c1,c2,c3='Mexico'):\n",
        "  print(\"My favourite team is  \" + c1 + c2 + c3)\n",
        "\n",
        "team('Norway ','India ')"
      ],
      "metadata": {
        "colab": {
          "base_uri": "https://localhost:8080/"
        },
        "id": "Zo0c2b7aypmP",
        "outputId": "52eaf903-8a44-4c0c-e331-a185c69a63bf"
      },
      "execution_count": 27,
      "outputs": [
        {
          "output_type": "stream",
          "name": "stdout",
          "text": [
            "My favourite team is  Norway India Mexico\n"
          ]
        }
      ]
    },
    {
      "cell_type": "code",
      "source": [
        "def name([a,b,c]):\n",
        "  print('Teams ',a,b,c)\n",
        "  for i in name(a,b,c):\n",
        "    print(i)\n",
        "  \n",
        "\n",
        "name(a='Argentina',b='Portugal',c='Brazil')"
      ],
      "metadata": {
        "colab": {
          "base_uri": "https://localhost:8080/",
          "height": 131
        },
        "id": "yxD8UvKO2qLW",
        "outputId": "c1e46148-2e9d-4bf2-bd6d-c04bf1b577a5"
      },
      "execution_count": 33,
      "outputs": [
        {
          "output_type": "error",
          "ename": "SyntaxError",
          "evalue": "ignored",
          "traceback": [
            "\u001b[0;36m  File \u001b[0;32m\"<ipython-input-33-e02a76e66cf2>\"\u001b[0;36m, line \u001b[0;32m1\u001b[0m\n\u001b[0;31m    def name([a,b,c]):\u001b[0m\n\u001b[0m             ^\u001b[0m\n\u001b[0;31mSyntaxError\u001b[0m\u001b[0;31m:\u001b[0m invalid syntax\n"
          ]
        }
      ]
    },
    {
      "cell_type": "code",
      "source": [],
      "metadata": {
        "id": "A3tjbzw95i5s"
      },
      "execution_count": null,
      "outputs": []
    }
  ]
}